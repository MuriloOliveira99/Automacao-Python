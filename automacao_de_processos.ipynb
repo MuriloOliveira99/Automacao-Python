{
 "cells": [
  {
   "cell_type": "markdown",
   "id": "0315c4dd",
   "metadata": {},
   "source": [
    "<h1> Python - Automação de Processos com PyAutoGUI </h1>"
   ]
  },
  {
   "cell_type": "markdown",
   "id": "ce39fc7a",
   "metadata": {},
   "source": [
    "=============================================================================="
   ]
  },
  {
   "cell_type": "markdown",
   "id": "eae9df7a",
   "metadata": {},
   "source": [
    "<h4> Anotações </h4><br>\n",
    "<p><b>PyAutoGui: </b>Fornece métodos para controlar mouse e teclado. Esse módulo pode ser usado para automatizar tarefas repetitivas</p>\n",
    "\n",
    "<ul>\n",
    "    <li> <b>pyautogui.hotkey</b> -> selecionar um conjunto de teclas </li>\n",
    "    <li> <b>pyautogui.write</b> -> Escrever </li>\n",
    "    <li> <b>pyautogui.press</b> -> apertar 1 tecla </li> \n",
    "<ul>"
   ]
  },
  {
   "cell_type": "markdown",
   "id": "7bfd4c71",
   "metadata": {},
   "source": [
    "<h3> Instalando as bibliotecas </h3>"
   ]
  },
  {
   "cell_type": "code",
   "execution_count": 90,
   "id": "4ffd7799",
   "metadata": {
    "scrolled": true
   },
   "outputs": [],
   "source": [
    "!pip install pyautogui\n",
    "!pip install pyperclip"
   ]
  },
  {
   "cell_type": "markdown",
   "id": "e6ef8820",
   "metadata": {},
   "source": [
    "<h3> Importando as bibliotecas </h3>"
   ]
  },
  {
   "cell_type": "code",
   "execution_count": 91,
   "id": "d61fe833",
   "metadata": {},
   "outputs": [],
   "source": [
    "import pyautogui\n",
    "import pyperclip\n",
    "from time import sleep"
   ]
  },
  {
   "cell_type": "markdown",
   "id": "c24ad7ef",
   "metadata": {},
   "source": [
    "<h3> Pausa de 1 segundo entre todos os comandos </h3>"
   ]
  },
  {
   "cell_type": "code",
   "execution_count": 92,
   "id": "582c0a84",
   "metadata": {},
   "outputs": [],
   "source": [
    "pyautogui.PAUSE = 2"
   ]
  },
  {
   "cell_type": "markdown",
   "id": "403a1334",
   "metadata": {},
   "source": [
    "<h3> Entrar no Google Drive </h3>"
   ]
  },
  {
   "cell_type": "code",
   "execution_count": 93,
   "id": "6410bdd7",
   "metadata": {},
   "outputs": [],
   "source": [
    "# Abrir uma aba do navegador\n",
    "pyautogui.hotkey(\"ctrl\", \"t\")\n",
    "\n",
    "# Copiar o link (pyperclip -> trata caracteres especiais para evitar erros) \n",
    "pyperclip.copy(\"https://drive.google.com/drive/folders/1L6zSTOy1GIJGZjjJ-TAk4F31w1Gpu5Wy\")\n",
    "\n",
    "# Colar o link na barra de pesquisa do navegador\n",
    "pyautogui.hotkey(\"ctrl\", \"v\")\n",
    "\n",
    "# Apertar a tecla ENTER\n",
    "pyautogui.press(\"enter\")\n",
    "\n",
    "# pausa de 5 segundos pra carregar o site por completo\n",
    "sleep(5)"
   ]
  },
  {
   "cell_type": "markdown",
   "id": "83bb4822",
   "metadata": {},
   "source": [
    "<h3> Navegar no sistema e encontrar a base de dados </h3>"
   ]
  },
  {
   "cell_type": "code",
   "execution_count": 94,
   "id": "d9b28751",
   "metadata": {},
   "outputs": [],
   "source": [
    "# pyautogui.click(x, y, clicks=NUMERO_CLICKS) -> Clicar em um elemento (passando a posição x, y)\n",
    "pyautogui.click(x=338, y=300, clicks=2)"
   ]
  },
  {
   "cell_type": "markdown",
   "id": "9d321150",
   "metadata": {},
   "source": [
    "<h3> Exportar/Fazer Download da Base de Dados </h3>"
   ]
  },
  {
   "cell_type": "code",
   "execution_count": 95,
   "id": "510b57c7",
   "metadata": {},
   "outputs": [],
   "source": [
    "# Clicar no Arquivo\n",
    "pyautogui.click(x=375, y=379)"
   ]
  },
  {
   "cell_type": "code",
   "execution_count": 96,
   "id": "cdf85c5a",
   "metadata": {},
   "outputs": [],
   "source": [
    "# Clicar nos 3 pontinhos\n",
    "pyautogui.click(x=1716, y=186)"
   ]
  },
  {
   "cell_type": "code",
   "execution_count": 97,
   "id": "709e08fb",
   "metadata": {},
   "outputs": [],
   "source": [
    "# Clicar no 'Fazer Download'\n",
    "pyautogui.click(x=1515, y=561)"
   ]
  },
  {
   "cell_type": "code",
   "execution_count": null,
   "id": "0dd63ebb",
   "metadata": {},
   "outputs": [],
   "source": [
    "# Esperar o download\n",
    "sleep(5)"
   ]
  },
  {
   "cell_type": "markdown",
   "id": "d1accf67",
   "metadata": {},
   "source": [
    "<h3> Importar a base de dados para o Python </h3>"
   ]
  },
  {
   "cell_type": "code",
   "execution_count": 99,
   "id": "aa09f3b7",
   "metadata": {},
   "outputs": [],
   "source": [
    "import pandas as pd"
   ]
  },
  {
   "cell_type": "code",
   "execution_count": 105,
   "id": "2f1fdf5b",
   "metadata": {},
   "outputs": [],
   "source": [
    "# lendo o arquivo \n",
    "tbl_vendas = pd.read_excel(r\"C:\\Users\\muril\\OneDrive\\Área de Trabalho\\IMPACTA\\AUTOMACAO_COM_PYTHON\\Vendas - Dez.xlsx\")"
   ]
  },
  {
   "cell_type": "code",
   "execution_count": 106,
   "id": "6fbf3f3d",
   "metadata": {},
   "outputs": [
    {
     "data": {
      "text/html": [
       "<div>\n",
       "<style scoped>\n",
       "    .dataframe tbody tr th:only-of-type {\n",
       "        vertical-align: middle;\n",
       "    }\n",
       "\n",
       "    .dataframe tbody tr th {\n",
       "        vertical-align: top;\n",
       "    }\n",
       "\n",
       "    .dataframe thead th {\n",
       "        text-align: right;\n",
       "    }\n",
       "</style>\n",
       "<table border=\"1\" class=\"dataframe\">\n",
       "  <thead>\n",
       "    <tr style=\"text-align: right;\">\n",
       "      <th></th>\n",
       "      <th>Código Venda</th>\n",
       "      <th>Data</th>\n",
       "      <th>ID Loja</th>\n",
       "      <th>Produto</th>\n",
       "      <th>Quantidade</th>\n",
       "      <th>Valor Unitário</th>\n",
       "      <th>Valor Final</th>\n",
       "    </tr>\n",
       "  </thead>\n",
       "  <tbody>\n",
       "    <tr>\n",
       "      <th>0</th>\n",
       "      <td>65014</td>\n",
       "      <td>2019-12-01</td>\n",
       "      <td>Shopping Morumbi</td>\n",
       "      <td>Sunga Listrado</td>\n",
       "      <td>5</td>\n",
       "      <td>114</td>\n",
       "      <td>570</td>\n",
       "    </tr>\n",
       "    <tr>\n",
       "      <th>1</th>\n",
       "      <td>65014</td>\n",
       "      <td>2019-12-01</td>\n",
       "      <td>Shopping Morumbi</td>\n",
       "      <td>Casaco Listrado</td>\n",
       "      <td>1</td>\n",
       "      <td>269</td>\n",
       "      <td>269</td>\n",
       "    </tr>\n",
       "    <tr>\n",
       "      <th>2</th>\n",
       "      <td>65016</td>\n",
       "      <td>2019-12-01</td>\n",
       "      <td>Iguatemi Campinas</td>\n",
       "      <td>Sapato Listrado</td>\n",
       "      <td>2</td>\n",
       "      <td>363</td>\n",
       "      <td>726</td>\n",
       "    </tr>\n",
       "    <tr>\n",
       "      <th>3</th>\n",
       "      <td>65016</td>\n",
       "      <td>2019-12-01</td>\n",
       "      <td>Iguatemi Campinas</td>\n",
       "      <td>Casaco</td>\n",
       "      <td>1</td>\n",
       "      <td>250</td>\n",
       "      <td>250</td>\n",
       "    </tr>\n",
       "    <tr>\n",
       "      <th>4</th>\n",
       "      <td>65017</td>\n",
       "      <td>2019-12-01</td>\n",
       "      <td>Shopping SP Market</td>\n",
       "      <td>Gorro Liso</td>\n",
       "      <td>3</td>\n",
       "      <td>92</td>\n",
       "      <td>276</td>\n",
       "    </tr>\n",
       "  </tbody>\n",
       "</table>\n",
       "</div>"
      ],
      "text/plain": [
       "   Código Venda       Data             ID Loja          Produto  Quantidade  \\\n",
       "0         65014 2019-12-01    Shopping Morumbi   Sunga Listrado           5   \n",
       "1         65014 2019-12-01    Shopping Morumbi  Casaco Listrado           1   \n",
       "2         65016 2019-12-01   Iguatemi Campinas  Sapato Listrado           2   \n",
       "3         65016 2019-12-01   Iguatemi Campinas           Casaco           1   \n",
       "4         65017 2019-12-01  Shopping SP Market       Gorro Liso           3   \n",
       "\n",
       "   Valor Unitário  Valor Final  \n",
       "0             114          570  \n",
       "1             269          269  \n",
       "2             363          726  \n",
       "3             250          250  \n",
       "4              92          276  "
      ]
     },
     "execution_count": 106,
     "metadata": {},
     "output_type": "execute_result"
    }
   ],
   "source": [
    "# Exibindo as 5 primeiras linhas\n",
    "tbl_vendas.head()"
   ]
  },
  {
   "cell_type": "markdown",
   "id": "6d72aa5c",
   "metadata": {},
   "source": [
    "### Calcular os indicadores"
   ]
  },
  {
   "cell_type": "code",
   "execution_count": 108,
   "id": "dfd51a75",
   "metadata": {},
   "outputs": [
    {
     "data": {
      "text/plain": [
       "2917311"
      ]
     },
     "execution_count": 108,
     "metadata": {},
     "output_type": "execute_result"
    }
   ],
   "source": [
    "# Faturamento - soma da coluna valor final\n",
    "faturamento = tbl_vendas['Valor Final'].sum()\n",
    "faturamento"
   ]
  },
  {
   "cell_type": "code",
   "execution_count": 110,
   "id": "6604b614",
   "metadata": {},
   "outputs": [
    {
     "data": {
      "text/plain": [
       "15227"
      ]
     },
     "execution_count": 110,
     "metadata": {},
     "output_type": "execute_result"
    }
   ],
   "source": [
    "# Quantidade de produtos - soma da coluna quantidade\n",
    "quantidade = tbl_vendas['Quantidade'].sum()\n",
    "quantidade\n"
   ]
  },
  {
   "cell_type": "markdown",
   "id": "65319c16",
   "metadata": {},
   "source": [
    "<h3> Enviar um e-mail pelo gmail </h3>"
   ]
  },
  {
   "cell_type": "code",
   "execution_count": 124,
   "id": "58bc7960",
   "metadata": {},
   "outputs": [],
   "source": [
    "# Abrir uma nova aba\n",
    "pyautogui.hotkey(\"ctrl\", \"t\")\n",
    "\n",
    "# Copiar o link com pyperclip.copy\n",
    "pyperclip.copy(\"https://mail.google.com/mail/u/0/#inbox\")\n",
    "\n",
    "# Colar o link na barra de pesquisa\n",
    "pyautogui.hotkey(\"ctrl\", \"v\")\n",
    "\n",
    "# Pressionando ENTER\n",
    "pyautogui.press(\"enter\")\n",
    "sleep(5)\n",
    "\n",
    "# Clicar no botão escrever\n",
    "pyautogui.click(x=79, y=201)\n",
    "sleep(2)\n",
    "\n",
    "# Escrever o e-mail para o destinatário\n",
    "pyautogui.write(\"murilooliveira99@hotmail.com\")\n",
    "pyautogui.press(\"tab\")\n",
    "pyautogui.press(\"tab\")\n",
    "\n",
    "# Escrever o assunto do e-mail\n",
    "pyperclip.copy(\"Relatório de Vendas\")\n",
    "pyautogui.hotkey(\"ctrl\", \"v\")\n",
    "pyautogui.press(\"tab\")\n",
    "\n",
    "# Escrever o corpo do e-mail\n",
    "corpo_email = f\"\"\"\n",
    "Prezados, bom dia!\n",
    "\n",
    "O faturamento de ontem foi de: R$ {faturamento:,.2f}\n",
    "A quantidade de produtos foi de: {quantidade:,}\n",
    "\n",
    "Abs\n",
    "Murilo Oliveira\n",
    "\"\"\"\n",
    "pyperclip.copy(corpo_email)\n",
    "pyautogui.hotkey(\"ctrl\", \"v\")\n",
    "\n",
    "# Enviar o e-mail\n",
    "pyautogui.hotkey(\"ctrl\", \"enter\")\n"
   ]
  },
  {
   "cell_type": "markdown",
   "id": "3168044d",
   "metadata": {},
   "source": [
    "<h1> COMANDOS EXTRAS </h1>"
   ]
  },
  {
   "cell_type": "markdown",
   "id": "5c80e767",
   "metadata": {},
   "source": [
    "================================="
   ]
  },
  {
   "cell_type": "markdown",
   "id": "3b8431b5",
   "metadata": {},
   "source": [
    "<h3> Descobrir qual a posição de um item</h3>"
   ]
  },
  {
   "cell_type": "code",
   "execution_count": 112,
   "id": "f79d5e57",
   "metadata": {},
   "outputs": [
    {
     "data": {
      "text/plain": [
       "Point(x=79, y=201)"
      ]
     },
     "execution_count": 112,
     "metadata": {},
     "output_type": "execute_result"
    }
   ],
   "source": [
    "# CTRL + TAB -> Navegar entre as abas\n",
    "\n",
    "# Espere 5 segundos \n",
    "sleep(5)\n",
    "\n",
    "# mostre a posição em x,y do item\n",
    "pyautogui.position()"
   ]
  }
 ],
 "metadata": {
  "kernelspec": {
   "display_name": "Python 3 (ipykernel)",
   "language": "python",
   "name": "python3"
  },
  "language_info": {
   "codemirror_mode": {
    "name": "ipython",
    "version": 3
   },
   "file_extension": ".py",
   "mimetype": "text/x-python",
   "name": "python",
   "nbconvert_exporter": "python",
   "pygments_lexer": "ipython3",
   "version": "3.9.7"
  }
 },
 "nbformat": 4,
 "nbformat_minor": 5
}
